{
 "cells": [
  {
   "cell_type": "code",
   "execution_count": null,
   "metadata": {},
   "outputs": [],
   "source": [
    "import pandas as pd\n",
    "import matplotlib.pyplot as plt\n",
    "import seaborn as sns\n",
    "\n",
    "# Load cleaned dataset\n",
    "file_path = \"songs_cleaned.csv\"\n",
    "df = pd.read_csv(file_path)\n",
    "\n",
    "# Convert Rank to numeric for analysis (handle \"N/A\" cases)\n",
    "df[\"Rank\"] = pd.to_numeric(df[\"Rank\"], errors=\"coerce\")\n",
    "\n",
    "print(\"\\n🔍 Basic Data Insights:\")\n",
    "print(df.describe())"
   ]
  },
  {
   "cell_type": "code",
   "execution_count": null,
   "metadata": {},
   "outputs": [],
   "source": [
    "#  Top 10 Artists with Most Songs in the Chart**\n",
    "top_artists = df[\"Artist\"].value_counts().head(10)\n",
    "plt.figure(figsize=(10, 5))\n",
    "sns.barplot(x=top_artists.values, y=top_artists.index, palette=\"viridis\")\n",
    "plt.xlabel(\"Number of Songs\")\n",
    "plt.ylabel(\"Artist\")\n",
    "plt.title(\"Top 10 Artists with Most Songs in the Chart\")\n",
    "plt.show()"
   ]
  },
  {
   "cell_type": "code",
   "execution_count": null,
   "metadata": {},
   "outputs": [],
   "source": [
    "# Most Popular Songs (Based on Popularity Score)**\n",
    "top_songs_popularity = df.nlargest(10, \"Popularity\")[[\"Track Name\", \"Popularity\"]]\n",
    "plt.figure(figsize=(12, 6))\n",
    "sns.barplot(x=\"Popularity\", y=\"Track Name\", data=top_songs_popularity, palette=\"coolwarm\")\n",
    "plt.xlabel(\"Popularity Score\")\n",
    "plt.ylabel(\"Track Name\")\n",
    "plt.title(\"Top 10 Most Popular Songs\")\n",
    "plt.show()\n",
    "\n"
   ]
  },
  {
   "cell_type": "code",
   "execution_count": null,
   "metadata": {},
   "outputs": [],
   "source": [
    "#  Most Streamed Songs**\n",
    "top_songs_streams = df.nlargest(10, \"Streams\")[[\"Track Name\", \"Streams\"]]\n",
    "plt.figure(figsize=(12, 6))\n",
    "sns.barplot(x=\"Streams\", y=\"Track Name\", data=top_songs_streams, palette=\"magma\")\n",
    "plt.xlabel(\"Number of Streams\")\n",
    "plt.ylabel(\"Track Name\")\n",
    "plt.title(\"Top 10 Most Streamed Songs\")\n",
    "plt.show()\n",
    "\n"
   ]
  },
  {
   "cell_type": "code",
   "execution_count": null,
   "metadata": {},
   "outputs": [],
   "source": [
    "#  Billboard vs Spotify - Which Platform Has More Songs?**\n",
    "platform_counts = df[\"Platform\"].value_counts()\n",
    "plt.figure(figsize=(6, 6))\n",
    "plt.pie(platform_counts, labels=platform_counts.index, autopct=\"%1.1f%%\", colors=[\"#ff9999\", \"#66b3ff\"], startangle=140)\n",
    "plt.title(\"Distribution of Songs Across Platforms\")\n",
    "plt.show()"
   ]
  }
 ],
 "metadata": {
  "kernelspec": {
   "display_name": "Python 3",
   "language": "python",
   "name": "python3"
  },
  "language_info": {
   "name": "python",
   "version": "3.12.1"
  }
 },
 "nbformat": 4,
 "nbformat_minor": 2
}
